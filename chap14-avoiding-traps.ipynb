{
 "cells": [
  {
   "cell_type": "markdown",
   "metadata": {},
   "source": [
    "## Chapter 13: Avoiding Scraping Traps\n",
    "### Adjust Your Headers"
   ]
  },
  {
   "cell_type": "code",
   "execution_count": 1,
   "metadata": {
    "scrolled": true
   },
   "outputs": [
    {
     "name": "stdout",
     "output_type": "stream",
     "text": [
      "Headers from whatismybrowser:\n",
      "\n",
      "\n",
      "ACCEPT\n",
      "text.html,application/xhtml+xml,application/xml;q=0.9,image/webp,*/*;q=0.8\n",
      "\n",
      "\n",
      "ACCEPT_ENCODING\n",
      "gzip, deflate\n",
      "\n",
      "\n",
      "CONNECTION\n",
      "keep-alive\n",
      "\n",
      "\n",
      "HOST\n",
      "www.whatismybrowser.com\n",
      "\n",
      "\n",
      "USER_AGENT\n",
      "Mozilla/5.0 (Macintosh; Intel Mac OS X 10_9_5) AppleWebKit 537.36 (KHTML, like Gecko) Chrome\n",
      "\n",
      "\n",
      "Original headers on requests:\n",
      "{\n",
      "    \"headers\": {\n",
      "        \"Accept\": \"*/*\",\n",
      "        \"Accept-Encoding\": \"gzip, deflate\",\n",
      "        \"Connection\": \"close\",\n",
      "        \"Host\": \"httpbin.org\",\n",
      "        \"User-Agent\": \"python-requests/2.18.4\"\n",
      "    }\n",
      "}\n"
     ]
    }
   ],
   "source": [
    "import requests\n",
    "from bs4 import BeautifulSoup\n",
    "import json\n",
    "\n",
    "session = requests.Session()\n",
    "headers = {\n",
    "    'User-Agent': 'Mozilla/5.0 (Macintosh; Intel Mac OS X 10_9_5) AppleWebKit 537.36 (KHTML, like Gecko) Chrome',\n",
    "    'Accept': 'text.html,application/xhtml+xml,application/xml;q=0.9,image/webp,*/*;q=0.8'\n",
    "}\n",
    "url = 'https://www.whatismybrowser.com/detect/what-http-headers-is-my-browser-sending'\n",
    "req = session.get(url, headers=headers)\n",
    "bs = BeautifulSoup(req.text, 'lxml')\n",
    "tbody = bs.find('table', {'class': 'table-striped'}).get_text()\n",
    "print('Headers from whatismybrowser:\\n{}'.format(tbody))\n",
    "\n",
    "url = 'https://httpbin.org/headers'\n",
    "r = requests.get(url)\n",
    "# r=json.dumps(json.loads(r.text),indent=4)\n",
    "rjson = json.dumps(r.json(), indent=4)\n",
    "print('Original headers on requests:\\n{}'.format(rjson))"
   ]
  },
  {
   "cell_type": "markdown",
   "metadata": {},
   "source": [
    "### Handling Cookies with Javascript"
   ]
  },
  {
   "cell_type": "code",
   "execution_count": 2,
   "metadata": {},
   "outputs": [
    {
     "name": "stderr",
     "output_type": "stream",
     "text": [
      "/Users/wyh/.pyenv/versions/3.6.5/envs/scraping/lib/python3.6/site-packages/selenium/webdriver/phantomjs/webdriver.py:49: UserWarning: Selenium support for PhantomJS has been deprecated, please use headless versions of Chrome or Firefox instead\n",
      "  warnings.warn('Selenium support for PhantomJS has been deprecated, please use headless '\n"
     ]
    },
    {
     "name": "stdout",
     "output_type": "stream",
     "text": [
      "[\n",
      "    {\n",
      "        \"domain\": \"pythonscraping.com\",\n",
      "        \"httponly\": false,\n",
      "        \"name\": \"has_js\",\n",
      "        \"path\": \"/\",\n",
      "        \"secure\": false,\n",
      "        \"value\": \"1\"\n",
      "    }\n",
      "]\n"
     ]
    }
   ],
   "source": [
    "from selenium import webdriver\n",
    "import json\n",
    "\n",
    "driver = webdriver.PhantomJS()\n",
    "driver.get('http://pythonscraping.com/')\n",
    "driver.implicitly_wait(1)\n",
    "print(json.dumps(driver.get_cookies(), indent=4))"
   ]
  },
  {
   "cell_type": "code",
   "execution_count": 3,
   "metadata": {},
   "outputs": [
    {
     "name": "stderr",
     "output_type": "stream",
     "text": [
      "/Users/wyh/.pyenv/versions/3.6.5/envs/scraping/lib/python3.6/site-packages/selenium/webdriver/phantomjs/webdriver.py:49: UserWarning: Selenium support for PhantomJS has been deprecated, please use headless versions of Chrome or Firefox instead\n",
      "  warnings.warn('Selenium support for PhantomJS has been deprecated, please use headless '\n"
     ]
    },
    {
     "name": "stdout",
     "output_type": "stream",
     "text": [
      "[\n",
      "    {\n",
      "        \"domain\": \"pythonscraping.com\",\n",
      "        \"httponly\": false,\n",
      "        \"name\": \"has_js\",\n",
      "        \"path\": \"/\",\n",
      "        \"secure\": false,\n",
      "        \"value\": \"1\"\n",
      "    }\n",
      "]\n"
     ]
    },
    {
     "name": "stderr",
     "output_type": "stream",
     "text": [
      "/Users/wyh/.pyenv/versions/3.6.5/envs/scraping/lib/python3.6/site-packages/selenium/webdriver/phantomjs/webdriver.py:49: UserWarning: Selenium support for PhantomJS has been deprecated, please use headless versions of Chrome or Firefox instead\n",
      "  warnings.warn('Selenium support for PhantomJS has been deprecated, please use headless '\n",
      "/Users/wyh/.pyenv/versions/3.6.5/envs/scraping/lib/python3.6/site-packages/selenium/webdriver/phantomjs/webdriver.py:49: UserWarning: Selenium support for PhantomJS has been deprecated, please use headless versions of Chrome or Firefox instead\n",
      "  warnings.warn('Selenium support for PhantomJS has been deprecated, please use headless '\n"
     ]
    },
    {
     "name": "stdout",
     "output_type": "stream",
     "text": [
      "[\n",
      "    {\n",
      "        \"domain\": \"pythonscraping.com\",\n",
      "        \"httponly\": false,\n",
      "        \"name\": \"has_js\",\n",
      "        \"path\": \"/\",\n",
      "        \"secure\": false,\n",
      "        \"value\": \"1\"\n",
      "    }\n",
      "]\n"
     ]
    }
   ],
   "source": [
    "# Reuse cookies with selenium\n",
    "from selenium import webdriver\n",
    "import json\n",
    "\n",
    "driver = webdriver.PhantomJS()\n",
    "driver.get('http://pythonscraping.com/')\n",
    "driver.implicitly_wait(1)\n",
    "\n",
    "savedCookies = driver.get_cookies()\n",
    "print(json.dumps(savedCookies, indent=4))\n",
    "\n",
    "driver2 = webdriver.PhantomJS()\n",
    "# tell selenium where the cookies belong to\n",
    "driver2.get('http://pythonscraping.com/')\n",
    "driver2.delete_all_cookies()\n",
    "for cookie in savedCookies:\n",
    "    if not cookie['domain'].startswith('.'):\n",
    "        cookie['domain'] = '.{}'.format(cookie['domain'])\n",
    "    driver2.add_cookie(cookie)\n",
    "\n",
    "driver2 = webdriver.PhantomJS()\n",
    "driver2.get('http://pythonscraping.com/')\n",
    "print(json.dumps(driver2.get_cookies(), indent=4))"
   ]
  },
  {
   "cell_type": "markdown",
   "metadata": {},
   "source": [
    "### Avoiding Honeypots"
   ]
  },
  {
   "cell_type": "code",
   "execution_count": 4,
   "metadata": {},
   "outputs": [
    {
     "name": "stderr",
     "output_type": "stream",
     "text": [
      "/Users/wyh/.pyenv/versions/3.6.5/envs/scraping/lib/python3.6/site-packages/selenium/webdriver/phantomjs/webdriver.py:49: UserWarning: Selenium support for PhantomJS has been deprecated, please use headless versions of Chrome or Firefox instead\n",
      "  warnings.warn('Selenium support for PhantomJS has been deprecated, please use headless '\n"
     ]
    },
    {
     "name": "stdout",
     "output_type": "stream",
     "text": [
      "The link http://pythonscraping.com/dontgohere is a trap\n",
      "Do not change value of phone\n",
      "Do not change value of email\n"
     ]
    }
   ],
   "source": [
    "from selenium import webdriver\n",
    "from selenium.webdriver.remote.webelement import WebElement\n",
    "\n",
    "driver = webdriver.PhantomJS()\n",
    "driver.get('http://pythonscraping.com/pages/itsatrap.html')\n",
    "links = driver.find_elements_by_tag_name('a')\n",
    "for link in links:\n",
    "    if not link.is_displayed():\n",
    "        print('The link %s is a trap' % link.get_attribute('href'))\n",
    "fields = driver.find_elements_by_tag_name('input')\n",
    "for field in fields:\n",
    "    if not field.is_displayed():\n",
    "        print('Do not change value of %s' % field.get_attribute('name'))"
   ]
  }
 ],
 "metadata": {
  "kernelspec": {
   "display_name": "Python 3",
   "language": "python",
   "name": "python3"
  },
  "language_info": {
   "codemirror_mode": {
    "name": "ipython",
    "version": 3
   },
   "file_extension": ".py",
   "mimetype": "text/x-python",
   "name": "python",
   "nbconvert_exporter": "python",
   "pygments_lexer": "ipython3",
   "version": "3.6.5"
  }
 },
 "nbformat": 4,
 "nbformat_minor": 2
}
