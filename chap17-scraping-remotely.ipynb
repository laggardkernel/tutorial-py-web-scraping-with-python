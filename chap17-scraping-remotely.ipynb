{
 "cells": [
  {
   "cell_type": "markdown",
   "metadata": {},
   "source": [
    "## Scraping Remotely\n",
    "### Scraping with Proxy"
   ]
  },
  {
   "cell_type": "code",
   "execution_count": null,
   "metadata": {},
   "outputs": [],
   "source": [
    "import socks\n",
    "import socket\n",
    "from urllib.request import urlopen\n",
    "\n",
    "socks.set_default_proxy(socks.SOCKS5, '127.0.0.1', 1080)\n",
    "socket.socket = socks.socksocket\n",
    "print(urlopen('https://httpbin.org/ip').read())"
   ]
  },
  {
   "cell_type": "code",
   "execution_count": null,
   "metadata": {},
   "outputs": [],
   "source": [
    "from selenium import webdriver\n",
    "\n",
    "chrome_options = webdriver.ChromeOptions()\n",
    "chrome_options.add_argument('--proxy-server=socks5://127.0.0.1:1080')\n",
    "driver = webdriver.Chrome(chrome_options=chrome_options)\n",
    "\n",
    "try:\n",
    "    driver.get('https://httpbin.org/ip')\n",
    "    print(driver.page_source)\n",
    "finally:\n",
    "    driver.close()"
   ]
  },
  {
   "cell_type": "code",
   "execution_count": null,
   "metadata": {},
   "outputs": [],
   "source": [
    "from selenium import webdriver\n",
    "\n",
    "service_args = [\n",
    "    '--proxy=127.0.0.1:1087',\n",
    "    '--proxy-type=http'\n",
    "]\n",
    "driver = webdriver.PhantomJS(service_args=service_args)\n",
    "\n",
    "try:\n",
    "    driver.get('https://httpbin.org/ip')\n",
    "    print(driver.page_source)\n",
    "finally:\n",
    "    driver.close()"
   ]
  }
 ],
 "metadata": {
  "kernelspec": {
   "display_name": "Python 3",
   "language": "python",
   "name": "python3"
  },
  "language_info": {
   "codemirror_mode": {
    "name": "ipython",
    "version": 3
   },
   "file_extension": ".py",
   "mimetype": "text/x-python",
   "name": "python",
   "nbconvert_exporter": "python",
   "pygments_lexer": "ipython3",
   "version": "3.6.5"
  }
 },
 "nbformat": 4,
 "nbformat_minor": 2
}
